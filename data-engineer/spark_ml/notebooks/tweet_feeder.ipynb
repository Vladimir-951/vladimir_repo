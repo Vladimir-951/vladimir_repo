{
 "cells": [
  {
   "cell_type": "code",
   "execution_count": 1,
   "metadata": {},
   "outputs": [
    {
     "name": "stdout",
     "output_type": "stream",
     "text": [
      "Current spark version is 2.4.4\n"
     ]
    }
   ],
   "source": [
    "println(s\"Current spark version is ${spark.version}\")"
   ]
  },
  {
   "cell_type": "code",
   "execution_count": 2,
   "metadata": {},
   "outputs": [
    {
     "name": "stdout",
     "output_type": "stream",
     "text": [
      "Total tweets in file: 1600000\n"
     ]
    },
    {
     "data": {
      "text/plain": [
       "dataSchema = StructType(StructField(target,IntegerType,true), StructField(id,LongType,true), StructField(raw_timestamp,StringType,true), StructField(query_status,StringType,true), StructField(author,StringType,true), StructField(tweet,StringType,true))\n",
       "dataPath = /home/jovyan/data/training.1600000.processed.noemoticon.csv\n",
       "raw_sentiment = [tweet: string]\n"
      ]
     },
     "metadata": {},
     "output_type": "display_data"
    },
    {
     "data": {
      "text/plain": [
       "[tweet: string]"
      ]
     },
     "execution_count": 2,
     "metadata": {},
     "output_type": "execute_result"
    }
   ],
   "source": [
    "import org.apache.spark.sql.types.{StructType, StructField, IntegerType, LongType, StringType}\n",
    "\n",
    "val dataSchema = new StructType()\n",
    "    .add(\"target\", IntegerType)\n",
    "    .add(\"id\", LongType)\n",
    "    .add(\"raw_timestamp\", StringType)\n",
    "    .add(\"query_status\", StringType)\n",
    "    .add(\"author\", StringType)\n",
    "    .add(\"tweet\", StringType)\n",
    "\n",
    "    \n",
    "val dataPath= \"/home/jovyan/data/training.1600000.processed.noemoticon.csv\"\n",
    "\n",
    "val raw_sentiment = spark.read\n",
    "    .format(\"csv\")\n",
    "    .option(\"header\",false)\n",
    "    .schema(dataSchema)\n",
    "    .load(dataPath)\n",
    "    .selectExpr(\"tweet\")\n",
    "\n",
    "println(s\"Total tweets in file: ${raw_sentiment.count}\")\n"
   ]
  },
  {
   "cell_type": "code",
   "execution_count": 3,
   "metadata": {
    "scrolled": true
   },
   "outputs": [
    {
     "name": "stdout",
     "output_type": "stream",
     "text": [
      "Streaming started!\n"
     ]
    },
    {
     "data": {
      "text/plain": [
       "timer = java.util.Timer@41e11bc8\n",
       "task = $anon$1@4b02e418\n"
      ]
     },
     "metadata": {},
     "output_type": "display_data"
    },
    {
     "data": {
      "text/plain": [
       "$anon$1@4b02e418"
      ]
     },
     "execution_count": 3,
     "metadata": {},
     "output_type": "execute_result"
    },
    {
     "name": "stdout",
     "output_type": "stream",
     "text": [
      "2019-10-13T07:07:28.224Z - saved some data to the events stream!\n",
      "2019-10-13T07:07:32.792Z - saved some data to the events stream!\n",
      "2019-10-13T07:07:37.341Z - saved some data to the events stream!\n",
      "2019-10-13T07:07:41.986Z - saved some data to the events stream!\n",
      "2019-10-13T07:07:46.648Z - saved some data to the events stream!\n",
      "2019-10-13T07:07:51.220Z - saved some data to the events stream!\n",
      "2019-10-13T07:07:55.737Z - saved some data to the events stream!\n",
      "2019-10-13T07:08:00.213Z - saved some data to the events stream!\n",
      "2019-10-13T07:08:04.718Z - saved some data to the events stream!\n",
      "2019-10-13T07:08:09.288Z - saved some data to the events stream!\n",
      "2019-10-13T07:08:13.817Z - saved some data to the events stream!\n",
      "2019-10-13T07:08:18.387Z - saved some data to the events stream!\n",
      "2019-10-13T07:08:22.917Z - saved some data to the events stream!\n",
      "2019-10-13T07:08:27.452Z - saved some data to the events stream!\n",
      "2019-10-13T07:08:31.995Z - saved some data to the events stream!\n",
      "2019-10-13T07:08:36.533Z - saved some data to the events stream!\n",
      "2019-10-13T07:08:40.985Z - saved some data to the events stream!\n",
      "2019-10-13T07:08:45.532Z - saved some data to the events stream!\n",
      "2019-10-13T07:08:50.019Z - saved some data to the events stream!\n",
      "2019-10-13T07:08:54.538Z - saved some data to the events stream!\n",
      "2019-10-13T07:08:59.013Z - saved some data to the events stream!\n",
      "2019-10-13T07:09:03.479Z - saved some data to the events stream!\n",
      "2019-10-13T07:09:07.966Z - saved some data to the events stream!\n",
      "2019-10-13T07:09:12.527Z - saved some data to the events stream!\n",
      "2019-10-13T07:09:17.202Z - saved some data to the events stream!\n",
      "2019-10-13T07:09:21.762Z - saved some data to the events stream!\n"
     ]
    }
   ],
   "source": [
    "import java.util.{Calendar, Timer, TimerTask}\n",
    "\n",
    "val timer = new Timer()\n",
    "\n",
    "val task = new TimerTask {\n",
    "  def run(): Unit = {\n",
    "      val data = raw_sentiment.sample(fraction=0.00001,withReplacement=true)\n",
    "      data.coalesce(1).write.format(\"json\").mode(\"append\").save(\"/home/jovyan/data/events-stream\")\n",
    "      println(s\"${Calendar.getInstance().toInstant} - saved some data to the events stream!\")\n",
    "  } \n",
    "}\n",
    "\n",
    "println(\"Streaming started!\")\n",
    "\n",
    "timer.schedule(task, 1000L, 1000L)"
   ]
  },
  {
   "cell_type": "code",
   "execution_count": 4,
   "metadata": {},
   "outputs": [
    {
     "data": {
      "text/plain": [
       "true"
      ]
     },
     "execution_count": 4,
     "metadata": {},
     "output_type": "execute_result"
    }
   ],
   "source": [
    "task.cancel()"
   ]
  },
  {
   "cell_type": "code",
   "execution_count": null,
   "metadata": {},
   "outputs": [],
   "source": []
  },
  {
   "cell_type": "code",
   "execution_count": null,
   "metadata": {},
   "outputs": [],
   "source": []
  }
 ],
 "metadata": {
  "kernelspec": {
   "display_name": "Apache Toree - Scala",
   "language": "scala",
   "name": "apache_toree_scala"
  },
  "language_info": {
   "codemirror_mode": "text/x-scala",
   "file_extension": ".scala",
   "mimetype": "text/x-scala",
   "name": "scala",
   "pygments_lexer": "scala",
   "version": "2.11.12"
  }
 },
 "nbformat": 4,
 "nbformat_minor": 2
}
